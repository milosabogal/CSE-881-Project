{
 "cells": [
  {
   "cell_type": "markdown",
   "id": "19e2edc2",
   "metadata": {},
   "source": [
    "# CSE 881 Project"
   ]
  },
  {
   "cell_type": "code",
   "execution_count": 1,
   "id": "275908b8",
   "metadata": {},
   "outputs": [],
   "source": [
    "import yfinance as yf\n",
    "import pandas as pd\n",
    "import numpy as np\n",
    "import matplotlib.pyplot as plt"
   ]
  },
  {
   "cell_type": "code",
   "execution_count": 2,
   "id": "4c213b05",
   "metadata": {},
   "outputs": [],
   "source": [
    "def get_yfinance_data(ticker_list : list[str], start_date : str, end_date : str):\n",
    "    \"\"\" Get data from yfinance for a list of tickers.\n",
    "    \n",
    "    It includes Open, High, Low, Close, Adj. Close, and Volume.\n",
    "    \n",
    "    Args:\n",
    "        ticker_list : List of ticker symbols\n",
    "        start_date : Start date of the data\n",
    "        end_date : End date of the data\n",
    "\n",
    "    Returns:\n",
    "        A dict mapping ticker symbols to dataframes containing the data\n",
    "        fetched from yfinance\n",
    "    \"\"\"\n",
    "    \n",
    "    data_dict = {}\n",
    "\n",
    "    for ticker_symbol in ticker_list:\n",
    "        data = yf.download(ticker_symbol, start=start_date, end=end_date)\n",
    "        data_dict[ticker_symbol] = data\n",
    "\n",
    "    return data_dict"
   ]
  },
  {
   "cell_type": "code",
   "execution_count": 3,
   "id": "5e105dfb",
   "metadata": {},
   "outputs": [],
   "source": [
    "# Example tickers and dates\n",
    "aapl = \"AAPL\"\n",
    "msft = \"MSFT\"\n",
    "tsla = \"TSLA\"\n",
    "\n",
    "tickers = [aapl, msft, tsla]\n",
    "\n",
    "start_date = \"2010-01-01\"\n",
    "end_date = \"2023-12-31\""
   ]
  },
  {
   "cell_type": "code",
   "execution_count": 4,
   "id": "8ca2b17c",
   "metadata": {},
   "outputs": [
    {
     "name": "stdout",
     "output_type": "stream",
     "text": [
      "[*********************100%%**********************]  1 of 1 completed\n",
      "[*********************100%%**********************]  1 of 1 completed\n",
      "[*********************100%%**********************]  1 of 1 completed\n"
     ]
    }
   ],
   "source": [
    "yfinance_data_dict = get_yfinance_data(tickers, start_date, end_date)\n",
    "\n",
    "# Compute returns and add them as a column to the dataframes\n",
    "for ticker in yfinance_data_dict:\n",
    "    yfinance_data_dict[ticker][\"Returns\"] = yfinance_data_dict[ticker][\"Close\"].pct_change()"
   ]
  },
  {
   "cell_type": "code",
   "execution_count": 5,
   "id": "af0f6936",
   "metadata": {},
   "outputs": [
    {
     "data": {
      "text/html": [
       "<div>\n",
       "<style scoped>\n",
       "    .dataframe tbody tr th:only-of-type {\n",
       "        vertical-align: middle;\n",
       "    }\n",
       "\n",
       "    .dataframe tbody tr th {\n",
       "        vertical-align: top;\n",
       "    }\n",
       "\n",
       "    .dataframe thead th {\n",
       "        text-align: right;\n",
       "    }\n",
       "</style>\n",
       "<table border=\"1\" class=\"dataframe\">\n",
       "  <thead>\n",
       "    <tr style=\"text-align: right;\">\n",
       "      <th></th>\n",
       "      <th>Open</th>\n",
       "      <th>High</th>\n",
       "      <th>Low</th>\n",
       "      <th>Close</th>\n",
       "      <th>Adj Close</th>\n",
       "      <th>Volume</th>\n",
       "      <th>Returns</th>\n",
       "    </tr>\n",
       "    <tr>\n",
       "      <th>Date</th>\n",
       "      <th></th>\n",
       "      <th></th>\n",
       "      <th></th>\n",
       "      <th></th>\n",
       "      <th></th>\n",
       "      <th></th>\n",
       "      <th></th>\n",
       "    </tr>\n",
       "  </thead>\n",
       "  <tbody>\n",
       "    <tr>\n",
       "      <th>2010-01-04</th>\n",
       "      <td>7.622500</td>\n",
       "      <td>7.660714</td>\n",
       "      <td>7.585000</td>\n",
       "      <td>7.643214</td>\n",
       "      <td>6.487534</td>\n",
       "      <td>493729600</td>\n",
       "      <td>NaN</td>\n",
       "    </tr>\n",
       "    <tr>\n",
       "      <th>2010-01-05</th>\n",
       "      <td>7.664286</td>\n",
       "      <td>7.699643</td>\n",
       "      <td>7.616071</td>\n",
       "      <td>7.656429</td>\n",
       "      <td>6.498751</td>\n",
       "      <td>601904800</td>\n",
       "      <td>0.001729</td>\n",
       "    </tr>\n",
       "    <tr>\n",
       "      <th>2010-01-06</th>\n",
       "      <td>7.656429</td>\n",
       "      <td>7.686786</td>\n",
       "      <td>7.526786</td>\n",
       "      <td>7.534643</td>\n",
       "      <td>6.395380</td>\n",
       "      <td>552160000</td>\n",
       "      <td>-0.015906</td>\n",
       "    </tr>\n",
       "    <tr>\n",
       "      <th>2010-01-07</th>\n",
       "      <td>7.562500</td>\n",
       "      <td>7.571429</td>\n",
       "      <td>7.466071</td>\n",
       "      <td>7.520714</td>\n",
       "      <td>6.383555</td>\n",
       "      <td>477131200</td>\n",
       "      <td>-0.001849</td>\n",
       "    </tr>\n",
       "    <tr>\n",
       "      <th>2010-01-08</th>\n",
       "      <td>7.510714</td>\n",
       "      <td>7.571429</td>\n",
       "      <td>7.466429</td>\n",
       "      <td>7.570714</td>\n",
       "      <td>6.425994</td>\n",
       "      <td>447610800</td>\n",
       "      <td>0.006648</td>\n",
       "    </tr>\n",
       "  </tbody>\n",
       "</table>\n",
       "</div>"
      ],
      "text/plain": [
       "                Open      High       Low     Close  Adj Close     Volume  \\\n",
       "Date                                                                       \n",
       "2010-01-04  7.622500  7.660714  7.585000  7.643214   6.487534  493729600   \n",
       "2010-01-05  7.664286  7.699643  7.616071  7.656429   6.498751  601904800   \n",
       "2010-01-06  7.656429  7.686786  7.526786  7.534643   6.395380  552160000   \n",
       "2010-01-07  7.562500  7.571429  7.466071  7.520714   6.383555  477131200   \n",
       "2010-01-08  7.510714  7.571429  7.466429  7.570714   6.425994  447610800   \n",
       "\n",
       "             Returns  \n",
       "Date                  \n",
       "2010-01-04       NaN  \n",
       "2010-01-05  0.001729  \n",
       "2010-01-06 -0.015906  \n",
       "2010-01-07 -0.001849  \n",
       "2010-01-08  0.006648  "
      ]
     },
     "execution_count": 5,
     "metadata": {},
     "output_type": "execute_result"
    }
   ],
   "source": [
    "yfinance_data_dict[\"AAPL\"].head()"
   ]
  },
  {
   "cell_type": "code",
   "execution_count": 6,
   "id": "bf75fa94",
   "metadata": {},
   "outputs": [],
   "source": [
    "# TODO: Select and add new features"
   ]
  },
  {
   "cell_type": "code",
   "execution_count": 7,
   "id": "ba689151",
   "metadata": {},
   "outputs": [],
   "source": [
    "# TODO: Preprocess the data"
   ]
  },
  {
   "cell_type": "code",
   "execution_count": 8,
   "id": "f5ed4848",
   "metadata": {},
   "outputs": [],
   "source": [
    "# TODO: Implement model prototype"
   ]
  },
  {
   "cell_type": "code",
   "execution_count": 9,
   "id": "2ffc80bf",
   "metadata": {},
   "outputs": [],
   "source": [
    "# TODO: Implement Markowitz mean-variance model"
   ]
  }
 ],
 "metadata": {
  "kernelspec": {
   "display_name": "Python 3 (ipykernel)",
   "language": "python",
   "name": "python3"
  },
  "language_info": {
   "codemirror_mode": {
    "name": "ipython",
    "version": 3
   },
   "file_extension": ".py",
   "mimetype": "text/x-python",
   "name": "python",
   "nbconvert_exporter": "python",
   "pygments_lexer": "ipython3",
   "version": "3.11.4"
  }
 },
 "nbformat": 4,
 "nbformat_minor": 5
}
