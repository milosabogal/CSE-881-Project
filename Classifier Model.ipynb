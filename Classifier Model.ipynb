{
 "cells": [
  {
   "cell_type": "code",
   "execution_count": 1,
   "metadata": {},
   "outputs": [],
   "source": [
    "import yfinance as yf\n",
    "\n",
    "import pandas as pd\n",
    "import numpy as np\n",
    "import matplotlib.pyplot as plt\n",
    "\n",
    "import torch\n",
    "import torch.nn as nn\n",
    "import torch.optim as optim\n",
    "from torch.utils.data import TensorDataset, DataLoader\n",
    "\n",
    "from cvxopt import matrix \n",
    "from cvxopt import solvers\n",
    "\n",
    "from sklearn.preprocessing import MinMaxScaler, StandardScaler, RobustScaler\n",
    "from sklearn.metrics import mean_squared_error"
   ]
  },
  {
   "cell_type": "code",
   "execution_count": 2,
   "metadata": {},
   "outputs": [],
   "source": [
    "def get_yfinance_data(ticker_list : list[str], start_date : str, end_date : str):\n",
    "    \"\"\" Get data from yfinance for a list of tickers.\n",
    "    \n",
    "    It includes Open, High, Low, Close, Adj. Close, and Volume.\n",
    "    \n",
    "    Args:\n",
    "        ticker_list: List of ticker symbols\n",
    "        start_date: Start date of the data\n",
    "        end_date: End date of the data\n",
    "\n",
    "    Returns:\n",
    "        A dict mapping ticker symbols to dataframes containing the data\n",
    "        fetched from yfinance\n",
    "    \"\"\"\n",
    "    data_dict = {}\n",
    "\n",
    "    for ticker_symbol in ticker_list:\n",
    "        data = yf.download(ticker_symbol, start=start_date, end=end_date)\n",
    "        data_dict[ticker_symbol] = data\n",
    "\n",
    "    return data_dict"
   ]
  },
  {
   "cell_type": "code",
   "execution_count": 3,
   "metadata": {},
   "outputs": [
    {
     "name": "stdout",
     "output_type": "stream",
     "text": [
      "[*********************100%%**********************]  1 of 1 completed\n",
      "[*********************100%%**********************]  1 of 1 completed\n",
      "[*********************100%%**********************]  1 of 1 completed\n"
     ]
    }
   ],
   "source": [
    "# Example tickers and dates\n",
    "aapl = \"AAPL\"\n",
    "msft = \"MSFT\"\n",
    "tsla = \"TSLA\"\n",
    "\n",
    "tickers = [aapl, msft, tsla]\n",
    "\n",
    "start_date = \"2021-01-01\"\n",
    "end_date = \"2024-01-01\"\n",
    "\n",
    "yfinance_data_dict = get_yfinance_data(tickers, start_date, end_date)"
   ]
  },
  {
   "cell_type": "code",
   "execution_count": 4,
   "metadata": {},
   "outputs": [
    {
     "data": {
      "text/html": [
       "<div>\n",
       "<style scoped>\n",
       "    .dataframe tbody tr th:only-of-type {\n",
       "        vertical-align: middle;\n",
       "    }\n",
       "\n",
       "    .dataframe tbody tr th {\n",
       "        vertical-align: top;\n",
       "    }\n",
       "\n",
       "    .dataframe thead th {\n",
       "        text-align: right;\n",
       "    }\n",
       "</style>\n",
       "<table border=\"1\" class=\"dataframe\">\n",
       "  <thead>\n",
       "    <tr style=\"text-align: right;\">\n",
       "      <th></th>\n",
       "      <th>Open</th>\n",
       "      <th>High</th>\n",
       "      <th>Low</th>\n",
       "      <th>Close</th>\n",
       "      <th>Adj Close</th>\n",
       "      <th>Volume</th>\n",
       "    </tr>\n",
       "    <tr>\n",
       "      <th>Date</th>\n",
       "      <th></th>\n",
       "      <th></th>\n",
       "      <th></th>\n",
       "      <th></th>\n",
       "      <th></th>\n",
       "      <th></th>\n",
       "    </tr>\n",
       "  </thead>\n",
       "  <tbody>\n",
       "    <tr>\n",
       "      <th>2023-10-30</th>\n",
       "      <td>169.020004</td>\n",
       "      <td>171.169998</td>\n",
       "      <td>168.869995</td>\n",
       "      <td>170.289993</td>\n",
       "      <td>170.289993</td>\n",
       "      <td>51131000</td>\n",
       "    </tr>\n",
       "    <tr>\n",
       "      <th>2023-10-31</th>\n",
       "      <td>169.350006</td>\n",
       "      <td>170.899994</td>\n",
       "      <td>167.899994</td>\n",
       "      <td>170.770004</td>\n",
       "      <td>170.770004</td>\n",
       "      <td>44846000</td>\n",
       "    </tr>\n",
       "    <tr>\n",
       "      <th>2023-11-01</th>\n",
       "      <td>171.000000</td>\n",
       "      <td>174.229996</td>\n",
       "      <td>170.119995</td>\n",
       "      <td>173.970001</td>\n",
       "      <td>173.970001</td>\n",
       "      <td>56934900</td>\n",
       "    </tr>\n",
       "    <tr>\n",
       "      <th>2023-11-02</th>\n",
       "      <td>175.520004</td>\n",
       "      <td>177.779999</td>\n",
       "      <td>175.460007</td>\n",
       "      <td>177.570007</td>\n",
       "      <td>177.570007</td>\n",
       "      <td>77334800</td>\n",
       "    </tr>\n",
       "    <tr>\n",
       "      <th>2023-11-03</th>\n",
       "      <td>174.240005</td>\n",
       "      <td>176.820007</td>\n",
       "      <td>173.350006</td>\n",
       "      <td>176.649994</td>\n",
       "      <td>176.649994</td>\n",
       "      <td>79763700</td>\n",
       "    </tr>\n",
       "  </tbody>\n",
       "</table>\n",
       "</div>"
      ],
      "text/plain": [
       "                  Open        High         Low       Close   Adj Close  \\\n",
       "Date                                                                     \n",
       "2023-10-30  169.020004  171.169998  168.869995  170.289993  170.289993   \n",
       "2023-10-31  169.350006  170.899994  167.899994  170.770004  170.770004   \n",
       "2023-11-01  171.000000  174.229996  170.119995  173.970001  173.970001   \n",
       "2023-11-02  175.520004  177.779999  175.460007  177.570007  177.570007   \n",
       "2023-11-03  174.240005  176.820007  173.350006  176.649994  176.649994   \n",
       "\n",
       "              Volume  \n",
       "Date                  \n",
       "2023-10-30  51131000  \n",
       "2023-10-31  44846000  \n",
       "2023-11-01  56934900  \n",
       "2023-11-02  77334800  \n",
       "2023-11-03  79763700  "
      ]
     },
     "execution_count": 4,
     "metadata": {},
     "output_type": "execute_result"
    }
   ],
   "source": [
    "# Example dataframe\n",
    "example_df = yfinance_data_dict[\"AAPL\"]\n",
    "example_df.tail()"
   ]
  },
  {
   "cell_type": "code",
   "execution_count": 5,
   "metadata": {},
   "outputs": [],
   "source": [
    "# Returns\n",
    "for ticker_df in yfinance_data_dict.values():\n",
    "    ticker_df[\"Returns\"] = (ticker_df[\"Close\"] - ticker_df[\"Open\"]) / ticker_df[\"Open\"]"
   ]
  },
  {
   "cell_type": "code",
   "execution_count": 6,
   "metadata": {},
   "outputs": [],
   "source": [
    "# Log Returns\n",
    "for ticker_df in yfinance_data_dict.values():\n",
    "    ticker_df[\"Log Returns\"] = np.log(ticker_df[\"Close\"]).diff()"
   ]
  },
  {
   "cell_type": "code",
   "execution_count": 7,
   "metadata": {},
   "outputs": [],
   "source": [
    "# SMA\n",
    "SMA_PERIOD = 10\n",
    "for ticker_df in yfinance_data_dict.values():\n",
    "    ticker_df[\"SMA\"] = ticker_df[\"Close\"].rolling(window=SMA_PERIOD).mean()"
   ]
  },
  {
   "cell_type": "code",
   "execution_count": 8,
   "metadata": {},
   "outputs": [],
   "source": [
    "# EMA\n",
    "EMA_PERIOD = 10\n",
    "for ticker_df in yfinance_data_dict.values():\n",
    "    ticker_df[\"EMA\"] = ticker_df[\"Close\"].ewm(span=EMA_PERIOD, adjust=False).mean()"
   ]
  },
  {
   "cell_type": "code",
   "execution_count": 9,
   "metadata": {},
   "outputs": [],
   "source": [
    "# VWAP\n",
    "for ticker_df in yfinance_data_dict.values():\n",
    "    value = ticker_df[\"Close\"] * ticker_df[\"Volume\"]\n",
    "    cumulative_value = value.cumsum()\n",
    "    cumulative_volume = ticker_df[\"Volume\"].cumsum()\n",
    "    ticker_df[\"VWAP\"] = cumulative_value / cumulative_volume"
   ]
  },
  {
   "cell_type": "code",
   "execution_count": 10,
   "metadata": {},
   "outputs": [],
   "source": [
    "# CCI\n",
    "CCI_PERIOD = 10\n",
    "for ticker_df in yfinance_data_dict.values():\n",
    "    typical_price = (ticker_df[\"High\"] + ticker_df[\"Low\"] + ticker_df[\"Close\"]) / 3\n",
    "    mean_typical_price = typical_price.rolling(window=CCI_PERIOD).mean()\n",
    "    mean_deviation = (typical_price - mean_typical_price).abs().rolling(window=CCI_PERIOD).mean()\n",
    "    ticker_df[\"CCI\"] = (typical_price - mean_typical_price) / (0.015 * mean_deviation)"
   ]
  },
  {
   "cell_type": "code",
   "execution_count": 11,
   "metadata": {},
   "outputs": [],
   "source": [
    "# Volatility\n",
    "VOLATILITY_PERIOD  = 10\n",
    "for ticker_df in yfinance_data_dict.values():\n",
    "    ticker_df[\"Volatility\"] = ticker_df[\"Returns\"].rolling(window=VOLATILITY_PERIOD).std()"
   ]
  },
  {
   "cell_type": "code",
   "execution_count": 12,
   "metadata": {},
   "outputs": [],
   "source": [
    "# RoC\n",
    "ROC_PERIOD  = 10\n",
    "for ticker_df in yfinance_data_dict.values():\n",
    "    ticker_df[\"RoC\"] = (ticker_df[\"Close\"] / ticker_df[\"Close\"].shift(ROC_PERIOD) - 1) * 100"
   ]
  },
  {
   "cell_type": "code",
   "execution_count": 13,
   "metadata": {},
   "outputs": [],
   "source": [
    "for ticker_df in yfinance_data_dict.values():\n",
    "    ticker_df.drop([\"Open\", \"High\", \"Low\", \"Close\", \"Adj Close\"], axis = 1, inplace=True)\n",
    "    ticker_df.dropna(inplace=True)"
   ]
  },
  {
   "cell_type": "code",
   "execution_count": 14,
   "metadata": {},
   "outputs": [
    {
     "data": {
      "text/html": [
       "<div>\n",
       "<style scoped>\n",
       "    .dataframe tbody tr th:only-of-type {\n",
       "        vertical-align: middle;\n",
       "    }\n",
       "\n",
       "    .dataframe tbody tr th {\n",
       "        vertical-align: top;\n",
       "    }\n",
       "\n",
       "    .dataframe thead th {\n",
       "        text-align: right;\n",
       "    }\n",
       "</style>\n",
       "<table border=\"1\" class=\"dataframe\">\n",
       "  <thead>\n",
       "    <tr style=\"text-align: right;\">\n",
       "      <th></th>\n",
       "      <th>Volume</th>\n",
       "      <th>Returns</th>\n",
       "      <th>Log Returns</th>\n",
       "      <th>SMA</th>\n",
       "      <th>EMA</th>\n",
       "      <th>VWAP</th>\n",
       "      <th>CCI</th>\n",
       "      <th>Volatility</th>\n",
       "      <th>RoC</th>\n",
       "    </tr>\n",
       "    <tr>\n",
       "      <th>Date</th>\n",
       "      <th></th>\n",
       "      <th></th>\n",
       "      <th></th>\n",
       "      <th></th>\n",
       "      <th></th>\n",
       "      <th></th>\n",
       "      <th></th>\n",
       "      <th></th>\n",
       "      <th></th>\n",
       "    </tr>\n",
       "  </thead>\n",
       "  <tbody>\n",
       "    <tr>\n",
       "      <th>2023-10-30</th>\n",
       "      <td>51131000</td>\n",
       "      <td>0.007514</td>\n",
       "      <td>0.012230</td>\n",
       "      <td>172.427000</td>\n",
       "      <td>171.871979</td>\n",
       "      <td>151.941438</td>\n",
       "      <td>-46.545218</td>\n",
       "      <td>0.010096</td>\n",
       "      <td>-4.716880</td>\n",
       "    </tr>\n",
       "    <tr>\n",
       "      <th>2023-10-31</th>\n",
       "      <td>44846000</td>\n",
       "      <td>0.008385</td>\n",
       "      <td>0.002815</td>\n",
       "      <td>171.789001</td>\n",
       "      <td>171.671620</td>\n",
       "      <td>151.956118</td>\n",
       "      <td>-36.778702</td>\n",
       "      <td>0.010464</td>\n",
       "      <td>-3.601462</td>\n",
       "    </tr>\n",
       "    <tr>\n",
       "      <th>2023-11-01</th>\n",
       "      <td>56934900</td>\n",
       "      <td>0.017368</td>\n",
       "      <td>0.018565</td>\n",
       "      <td>171.602002</td>\n",
       "      <td>172.089507</td>\n",
       "      <td>151.977886</td>\n",
       "      <td>22.918323</td>\n",
       "      <td>0.011866</td>\n",
       "      <td>-1.063464</td>\n",
       "    </tr>\n",
       "    <tr>\n",
       "      <th>2023-11-02</th>\n",
       "      <td>77334800</td>\n",
       "      <td>0.011680</td>\n",
       "      <td>0.020482</td>\n",
       "      <td>171.813002</td>\n",
       "      <td>173.085962</td>\n",
       "      <td>152.012214</td>\n",
       "      <td>89.490143</td>\n",
       "      <td>0.012157</td>\n",
       "      <td>1.202554</td>\n",
       "    </tr>\n",
       "    <tr>\n",
       "      <th>2023-11-03</th>\n",
       "      <td>79763700</td>\n",
       "      <td>0.013831</td>\n",
       "      <td>-0.005195</td>\n",
       "      <td>172.190001</td>\n",
       "      <td>173.733968</td>\n",
       "      <td>152.046254</td>\n",
       "      <td>64.258348</td>\n",
       "      <td>0.011030</td>\n",
       "      <td>2.180697</td>\n",
       "    </tr>\n",
       "  </tbody>\n",
       "</table>\n",
       "</div>"
      ],
      "text/plain": [
       "              Volume   Returns  Log Returns         SMA         EMA  \\\n",
       "Date                                                                  \n",
       "2023-10-30  51131000  0.007514     0.012230  172.427000  171.871979   \n",
       "2023-10-31  44846000  0.008385     0.002815  171.789001  171.671620   \n",
       "2023-11-01  56934900  0.017368     0.018565  171.602002  172.089507   \n",
       "2023-11-02  77334800  0.011680     0.020482  171.813002  173.085962   \n",
       "2023-11-03  79763700  0.013831    -0.005195  172.190001  173.733968   \n",
       "\n",
       "                  VWAP        CCI  Volatility       RoC  \n",
       "Date                                                     \n",
       "2023-10-30  151.941438 -46.545218    0.010096 -4.716880  \n",
       "2023-10-31  151.956118 -36.778702    0.010464 -3.601462  \n",
       "2023-11-01  151.977886  22.918323    0.011866 -1.063464  \n",
       "2023-11-02  152.012214  89.490143    0.012157  1.202554  \n",
       "2023-11-03  152.046254  64.258348    0.011030  2.180697  "
      ]
     },
     "execution_count": 14,
     "metadata": {},
     "output_type": "execute_result"
    }
   ],
   "source": [
    "# Example dataframe after feature construction\n",
    "example_df.tail()"
   ]
  },
  {
   "cell_type": "code",
   "execution_count": 15,
   "metadata": {},
   "outputs": [],
   "source": [
    "# TODO: Construct labels and join data frames for all stocks\n",
    "# TODO: One-hot encode target column (stock with highest returns)\n",
    "# TODO: Preprocess the data"
   ]
  },
  {
   "cell_type": "code",
   "execution_count": 16,
   "metadata": {},
   "outputs": [],
   "source": [
    "# TODO: Create classifier model"
   ]
  }
 ],
 "metadata": {
  "kernelspec": {
   "display_name": "base",
   "language": "python",
   "name": "python3"
  },
  "language_info": {
   "codemirror_mode": {
    "name": "ipython",
    "version": 3
   },
   "file_extension": ".py",
   "mimetype": "text/x-python",
   "name": "python",
   "nbconvert_exporter": "python",
   "pygments_lexer": "ipython3",
   "version": "3.11.4"
  }
 },
 "nbformat": 4,
 "nbformat_minor": 2
}
